{
 "cells": [
  {
   "cell_type": "markdown",
   "id": "ebe1155a-9e14-4c47-bccb-fdb1f2604def",
   "metadata": {},
   "source": [
    "# Lab 1. Text-completion with GenAI API"
   ]
  },
  {
   "cell_type": "markdown",
   "id": "2c2ea3b7-4e7b-4782-b35d-50fb4576ad8d",
   "metadata": {},
   "source": [
    "### Download Qwen2.5-7B-Instruct model from ModelScope"
   ]
  },
  {
   "cell_type": "code",
   "execution_count": 9,
   "id": "c7d35c93-6341-4422-a41f-ea084d597579",
   "metadata": {},
   "outputs": [],
   "source": [
    "from pathlib import Path\n",
    "from modelscope import snapshot_download\n",
    "\n",
    "llm_model_id = \"snake7gun/Qwen2.5-7B-Instruct-int4-ov\"\n",
    "llm_local_path  = \"./model/snake7gun/Qwen2___5-7B-Instruct-int4-ov\"\n",
    "\n",
    "if not Path(llm_local_path).exists():\n",
    "    model_dir = snapshot_download(llm_model_id, cache_dir=\"./model/\")"
   ]
  },
  {
   "cell_type": "markdown",
   "id": "f49e8764-25a6-4d42-8a8e-30e0db792199",
   "metadata": {},
   "source": [
    "### Initialize LLM"
   ]
  },
  {
   "cell_type": "code",
   "execution_count": 10,
   "id": "83ebf4f1-a5b3-4c9a-a98f-bc885ebf6549",
   "metadata": {},
   "outputs": [],
   "source": [
    "import openvino_genai as ov_genai\n",
    "\n",
    "pipe = ov_genai.LLMPipeline(llm_local_path, \"GPU\")\n",
    "\n",
    "def streamer(subword):\n",
    "    print(subword, end='', flush=True)\n",
    "    return False"
   ]
  },
  {
   "cell_type": "markdown",
   "id": "b4f06970-6bc2-4e50-85fe-cc49c35c31dd",
   "metadata": {},
   "source": [
    "### Response"
   ]
  },
  {
   "cell_type": "code",
   "execution_count": null,
   "id": "5ef4d999-04c7-4b1a-ad42-1b2e6cdc4bef",
   "metadata": {},
   "outputs": [],
   "source": [
    "prompt = \"<|im_start|>system\\n<|im_end|>\\n<|im_start|>user\\n什么是人工智能？<|im_end|>\\n<|im_start|>assistant\\n\"\n",
    "pipe.generate(prompt, eos_token_id=151645, max_length=500, streamer=streamer)"
   ]
  },
  {
   "cell_type": "markdown",
   "id": "dfafe9c0",
   "metadata": {},
   "source": [
    "### MiniCPM-2B-dpo"
   ]
  },
  {
   "cell_type": "code",
   "execution_count": 16,
   "id": "a0b5f7de",
   "metadata": {},
   "outputs": [],
   "source": [
    "from pathlib import Path\n",
    "from modelscope import snapshot_download\n",
    "\n",
    "llm_model_id = \"snake7gun/minicpm-2b-dpo-int4-ov\"\n",
    "llm_local_path  = \"./model/\" + llm_model_id\n",
    "\n",
    "if not Path(llm_local_path).exists():\n",
    "    model_dir = snapshot_download(llm_model_id, cache_dir=\"./model/\")"
   ]
  },
  {
   "cell_type": "code",
   "execution_count": 17,
   "id": "40a8374b",
   "metadata": {},
   "outputs": [],
   "source": [
    "pipe = ov_genai.LLMPipeline(llm_local_path, \"GPU\")"
   ]
  },
  {
   "cell_type": "code",
   "execution_count": 18,
   "id": "c68ec038",
   "metadata": {},
   "outputs": [
    {
     "name": "stdout",
     "output_type": "stream",
     "text": [
      "人工智能（Artificial Intelligence，简称AI）是一种模拟人类智能的技术，旨在使计算机和机器能够执行需要人类智能才能完成的任务。人工智能系统通过学习、推理、决策和适应环境的能力，使机器能够模拟人类的认知和行为。\n",
      "\n",
      "人工智能的发展可以分为以下几个阶段：\n",
      "\n",
      "1. 早期阶段（1950-1970年代）：这个时期，人工智能的研究主要集中在符号逻辑和规则系统上，如专家系统、自然语言处理等。\n",
      "\n",
      "2. 认知科学阶段（1980-1990年代）：这个时期，人工智能的研究开始关注认知科学，如神经网络、遗传算法等。\n",
      "\n",
      "3. 机器学习阶段（1990-2000年代）：这个时期，人工智能的研究开始关注机器学习，如支持向量机、决策树、神经网络等。\n",
      "\n",
      "4. 深度学习阶段（2010年至今）：这个时期，人工智能的研究开始关注深度学习，如卷积神经网络、循环神经网络等。\n",
      "\n",
      "人工智能的应用领域非常广泛，包括自然语言处理、计算机视觉、机器人技术、自动驾驶、医疗诊断、金融分析等。随着技术的不断进步，人工智能正在逐渐改变我们的生活和工作方式。"
     ]
    },
    {
     "data": {
      "text/plain": [
       "'人工智能（Artificial Intelligence，简称AI）是一种模拟人类智能的技术，旨在使计算机和机器能够执行需要人类智能才能完成的任务。人工智能系统通过学习、推理、决策和适应环境的能力，使机器能够模拟人类的认知和行为。\\n\\n人工智能的发展可以分为以下几个阶段：\\n\\n1. 早期阶段（1950-1970年代）：这个时期，人工智能的研究主要集中在符号逻辑和规则系统上，如专家系统、自然语言处理等。\\n\\n2. 认知科学阶段（1980-1990年代）：这个时期，人工智能的研究开始关注认知科学，如神经网络、遗传算法等。\\n\\n3. 机器学习阶段（1990-2000年代）：这个时期，人工智能的研究开始关注机器学习，如支持向量机、决策树、神经网络等。\\n\\n4. 深度学习阶段（2010年至今）：这个时期，人工智能的研究开始关注深度学习，如卷积神经网络、循环神经网络等。\\n\\n人工智能的应用领域非常广泛，包括自然语言处理、计算机视觉、机器人技术、自动驾驶、医疗诊断、金融分析等。随着技术的不断进步，人工智能正在逐渐改变我们的生活和工作方式。'"
      ]
     },
     "execution_count": 18,
     "metadata": {},
     "output_type": "execute_result"
    }
   ],
   "source": [
    "prompt = \"<用户>什么是人工智能？<AI>\"\n",
    "pipe.generate(prompt, eos_token_id=2, max_length=500, streamer=streamer)"
   ]
  }
 ],
 "metadata": {
  "kernelspec": {
   "display_name": "Python 3 (ipykernel)",
   "language": "python",
   "name": "python3"
  },
  "language_info": {
   "codemirror_mode": {
    "name": "ipython",
    "version": 3
   },
   "file_extension": ".py",
   "mimetype": "text/x-python",
   "name": "python",
   "nbconvert_exporter": "python",
   "pygments_lexer": "ipython3",
   "version": "3.10.14"
  }
 },
 "nbformat": 4,
 "nbformat_minor": 5
}
