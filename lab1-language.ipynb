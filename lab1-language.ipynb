{
 "cells": [
  {
   "cell_type": "markdown",
   "id": "ebe1155a-9e14-4c47-bccb-fdb1f2604def",
   "metadata": {},
   "source": [
    "# Lab 1. Text-completion with GenAI API"
   ]
  },
  {
   "cell_type": "markdown",
   "id": "2c2ea3b7-4e7b-4782-b35d-50fb4576ad8d",
   "metadata": {},
   "source": [
    "### Download Qwen2.5-7B-Instruct model from ModelScope"
   ]
  },
  {
   "cell_type": "code",
   "execution_count": 1,
   "id": "c7d35c93-6341-4422-a41f-ea084d597579",
   "metadata": {},
   "outputs": [],
   "source": [
    "from pathlib import Path\n",
    "from modelscope import snapshot_download\n",
    "\n",
    "llm_model_id = \"snake7gun/Qwen2.5-7B-Instruct-int4-ov\"\n",
    "llm_local_path  = \"./model/\" + llm_model_id\n",
    "\n",
    "if not Path(llm_local_path).exists():\n",
    "    model_dir = snapshot_download(llm_model_id, cache_dir=\"./model/\")"
   ]
  },
  {
   "cell_type": "markdown",
   "id": "f49e8764-25a6-4d42-8a8e-30e0db792199",
   "metadata": {},
   "source": [
    "### Initialize LLM"
   ]
  },
  {
   "cell_type": "code",
   "execution_count": 2,
   "id": "83ebf4f1-a5b3-4c9a-a98f-bc885ebf6549",
   "metadata": {},
   "outputs": [],
   "source": [
    "import openvino_genai as ov_genai\n",
    "\n",
    "pipe = ov_genai.LLMPipeline(llm_local_path, \"GPU\")\n",
    "\n",
    "def streamer(subword):\n",
    "    print(subword, end='', flush=True)\n",
    "    return False"
   ]
  },
  {
   "cell_type": "markdown",
   "id": "b4f06970-6bc2-4e50-85fe-cc49c35c31dd",
   "metadata": {},
   "source": [
    "### Response"
   ]
  },
  {
   "cell_type": "code",
   "execution_count": 3,
   "id": "5ef4d999-04c7-4b1a-ad42-1b2e6cdc4bef",
   "metadata": {},
   "outputs": [
    {
     "name": "stdout",
     "output_type": "stream",
     "text": [
      "人工智能（Artificial Intelligence，简称AI）是指由计算机系统所表现出的一种智能行为。它是一门研究如何创建具有智能的计算机程序或系统的学科。人工智能的目标是使计算机能够执行通常需要人类智能才能完成的任务，例如学习、推理、感知、理解自然语言、解决问题、识别图像和语音等。\n",
      "\n",
      "人工智能可以分为弱人工智能和强人工智能。弱人工智能是指专门针对某一特定任务的人工智能系统，例如语音识别、图像识别、自动驾驶等。强人工智能则是指具有广泛智能的人工智能系统，能够完成各种任务，类似于人类的智能水平。\n",
      "\n",
      "人工智能技术包括机器学习、深度学习、自然语言处理、计算机视觉、知识表示与推理等。这些技术的应用范围非常广泛，包括医疗、金融、教育、交通、安全等领域。"
     ]
    },
    {
     "data": {
      "text/plain": [
       "'人工智能（Artificial Intelligence，简称AI）是指由计算机系统所表现出的一种智能行为。它是一门研究如何创建具有智能的计算机程序或系统的学科。人工智能的目标是使计算机能够执行通常需要人类智能才能完成的任务，例如学习、推理、感知、理解自然语言、解决问题、识别图像和语音等。\\n\\n人工智能可以分为弱人工智能和强人工智能。弱人工智能是指专门针对某一特定任务的人工智能系统，例如语音识别、图像识别、自动驾驶等。强人工智能则是指具有广泛智能的人工智能系统，能够完成各种任务，类似于人类的智能水平。\\n\\n人工智能技术包括机器学习、深度学习、自然语言处理、计算机视觉、知识表示与推理等。这些技术的应用范围非常广泛，包括医疗、金融、教育、交通、安全等领域。'"
      ]
     },
     "execution_count": 3,
     "metadata": {},
     "output_type": "execute_result"
    }
   ],
   "source": [
    "prompt = \"<|im_start|>system\\n<|im_end|>\\n<|im_start|>user\\n什么是人工智能？<|im_end|>\\n<|im_start|>assistant\\n\"\n",
    "pipe.generate(prompt, eos_token_id=151645, max_length=500, streamer=streamer)"
   ]
  },
  {
   "cell_type": "markdown",
   "id": "dfafe9c0",
   "metadata": {},
   "source": [
    "### MiniCPM-2B-dpo"
   ]
  },
  {
   "cell_type": "code",
   "execution_count": 4,
   "id": "a0b5f7de",
   "metadata": {},
   "outputs": [],
   "source": [
    "from pathlib import Path\n",
    "from modelscope import snapshot_download\n",
    "\n",
    "llm_model_id = \"snake7gun/minicpm-2b-dpo-int4-ov\"\n",
    "llm_local_path  = \"./model/\" + llm_model_id\n",
    "\n",
    "if not Path(llm_local_path).exists():\n",
    "    model_dir = snapshot_download(llm_model_id, cache_dir=\"./model/\")"
   ]
  },
  {
   "cell_type": "code",
   "execution_count": 5,
   "id": "40a8374b",
   "metadata": {},
   "outputs": [],
   "source": [
    "pipe = ov_genai.LLMPipeline(llm_local_path, \"GPU\")"
   ]
  },
  {
   "cell_type": "code",
   "execution_count": 6,
   "id": "c68ec038",
   "metadata": {},
   "outputs": [
    {
     "name": "stdout",
     "output_type": "stream",
     "text": [
      "人工智能（Artificial Intelligence，简称AI）是指由人类创造出来的计算机系统，它们能够模仿、扩展和增强人类的智能行为。人工智能系统通过学习、推理、判断和决策等过程，实现与人类智能相似或超越人类智能的能力。\n",
      "\n",
      "人工智能的发展可以分为以下几个阶段：\n",
      "\n",
      "1. 早期阶段（1950-1970年代）：这个阶段主要关注如何使计算机能够执行简单的任务，如计算、逻辑推理和模式识别。\n",
      "\n",
      "2. 人工智能的黄金时代（1980-2010年代）：这个阶段的研究主要集中在基于规则的系统、符号处理和机器学习等方面。\n",
      "\n",
      "3. 深度学习时代（2010年至今）：这个阶段的研究重点转向了深度神经网络、强化学习和自然语言处理等领域。\n",
      "\n",
      "人工智能的应用领域非常广泛，包括但不限于以下几个方面：\n",
      "\n",
      "1. 自然语言处理：用于语音识别、机器翻译、文本生成等任务。\n",
      "2. 计算机视觉：用于图像识别、目标检测、人脸识别等任务。\n",
      "3. 机器人技术：用于自主导航、人机交互、自主决策等任务。\n",
      "4. 医疗健康：用于疾病诊断、药物研发、基因编辑等任务。\n",
      "5. 金融科技：用于风险评估、投资决策、信用评估等任务。\n",
      "6. 自动驾驶：用于车辆导航、交通管制、安全监控等任务。\n",
      "7. 智能家居：用于家居控制、能源管理、环境监测等任务。\n",
      "\n",
      "人工智能的发展对人类社会产生了深远的影响，既带来了便利，也带来了挑战。在未来的发展中，我们需要关注人工智能的伦理、隐私、安全等方面的问题，确保人工智能技术的可持续发展。"
     ]
    },
    {
     "data": {
      "text/plain": [
       "'人工智能（Artificial Intelligence，简称AI）是指由人类创造出来的计算机系统，它们能够模仿、扩展和增强人类的智能行为。人工智能系统通过学习、推理、判断和决策等过程，实现与人类智能相似或超越人类智能的能力。\\n\\n人工智能的发展可以分为以下几个阶段：\\n\\n1. 早期阶段（1950-1970年代）：这个阶段主要关注如何使计算机能够执行简单的任务，如计算、逻辑推理和模式识别。\\n\\n2. 人工智能的黄金时代（1980-2010年代）：这个阶段的研究主要集中在基于规则的系统、符号处理和机器学习等方面。\\n\\n3. 深度学习时代（2010年至今）：这个阶段的研究重点转向了深度神经网络、强化学习和自然语言处理等领域。\\n\\n人工智能的应用领域非常广泛，包括但不限于以下几个方面：\\n\\n1. 自然语言处理：用于语音识别、机器翻译、文本生成等任务。\\n2. 计算机视觉：用于图像识别、目标检测、人脸识别等任务。\\n3. 机器人技术：用于自主导航、人机交互、自主决策等任务。\\n4. 医疗健康：用于疾病诊断、药物研发、基因编辑等任务。\\n5. 金融科技：用于风险评估、投资决策、信用评估等任务。\\n6. 自动驾驶：用于车辆导航、交通管制、安全监控等任务。\\n7. 智能家居：用于家居控制、能源管理、环境监测等任务。\\n\\n人工智能的发展对人类社会产生了深远的影响，既带来了便利，也带来了挑战。在未来的发展中，我们需要关注人工智能的伦理、隐私、安全等方面的问题，确保人工智能技术的可持续发展。'"
      ]
     },
     "execution_count": 6,
     "metadata": {},
     "output_type": "execute_result"
    }
   ],
   "source": [
    "prompt = \"<用户>什么是人工智能？<AI>\"\n",
    "pipe.generate(prompt, eos_token_id=2, max_length=500, streamer=streamer)"
   ]
  },
  {
   "cell_type": "code",
   "execution_count": null,
   "id": "35b12377-1a2a-4982-b3da-0b9833983535",
   "metadata": {},
   "outputs": [],
   "source": []
  }
 ],
 "metadata": {
  "kernelspec": {
   "display_name": "Python 3 (ipykernel)",
   "language": "python",
   "name": "python3"
  },
  "language_info": {
   "codemirror_mode": {
    "name": "ipython",
    "version": 3
   },
   "file_extension": ".py",
   "mimetype": "text/x-python",
   "name": "python",
   "nbconvert_exporter": "python",
   "pygments_lexer": "ipython3",
   "version": "3.10.7"
  }
 },
 "nbformat": 4,
 "nbformat_minor": 5
}
