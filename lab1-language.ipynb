{
 "cells": [
  {
   "cell_type": "markdown",
   "id": "ebe1155a-9e14-4c47-bccb-fdb1f2604def",
   "metadata": {},
   "source": [
    "# Lab 1. Text-completion with GenAI API"
   ]
  },
  {
   "cell_type": "markdown",
   "id": "2c2ea3b7-4e7b-4782-b35d-50fb4576ad8d",
   "metadata": {},
   "source": [
    "### Download Qwen2-7B-Instruct model from ModelScope"
   ]
  },
  {
   "cell_type": "code",
   "execution_count": 1,
   "id": "c7d35c93-6341-4422-a41f-ea084d597579",
   "metadata": {},
   "outputs": [],
   "source": [
    "from pathlib import Path\n",
    "from modelscope import snapshot_download\n",
    "llm_model_id = \"snake7gun/Qwen2-7B-Instruct-int4-ov\"\n",
    "llm_local_path  = \"./model/snake7gun/Qwen2-7B-Instruct-int4-ov\"\n",
    "\n",
    "if not Path(llm_local_path).exists():\n",
    "    model_dir = snapshot_download(llm_model_id, cache_dir=\"./model/\")"
   ]
  },
  {
   "cell_type": "markdown",
   "id": "f49e8764-25a6-4d42-8a8e-30e0db792199",
   "metadata": {},
   "source": [
    "### Initialize LLM"
   ]
  },
  {
   "cell_type": "code",
   "execution_count": 6,
   "id": "83ebf4f1-a5b3-4c9a-a98f-bc885ebf6549",
   "metadata": {},
   "outputs": [],
   "source": [
    "import openvino_genai\n",
    "\n",
    "pipe = openvino_genai.LLMPipeline(llm_local_path, \"GPU\")\n",
    "\n",
    "def streamer(subword):\n",
    "    print(subword, end='', flush=True)\n",
    "    return False"
   ]
  },
  {
   "cell_type": "markdown",
   "id": "b4f06970-6bc2-4e50-85fe-cc49c35c31dd",
   "metadata": {},
   "source": [
    "### Response"
   ]
  },
  {
   "cell_type": "code",
   "execution_count": 9,
   "id": "5ef4d999-04c7-4b1a-ad42-1b2e6cdc4bef",
   "metadata": {},
   "outputs": [
    {
     "name": "stdout",
     "output_type": "stream",
     "text": [
      "OpenVINO（Open Visual Inference and Neural Network Optimization）是由英特尔开发的一套开源工具套件，用于在各种设备上部署深度学习模型。它提供了一个API库和一组工具，用于优化神经网络模型的性能，并在不同的硬件平台上进行推理。\n",
      "\n",
      "OpenVINO的主要功能包括：\n",
      "\n",
      "1. **模型优化**：它能够优化神经网络模型，以适应不同的硬件平台，包括CPU、GPU、VPU（Vision Processing Unit）等。优化过程包括模型转换、量化、并行化等步骤，以提高模型的执行效率。\n",
      "\n",
      "2. **推理引擎**：OpenVINO提供了一个高性能的推理引擎，用于在各种硬件平台上执行模型的推理任务。它支持多种硬件加速技术，以实现快速、高效的推理。\n",
      "\n",
      "3. **API支持**：它提供了多种编程接口，包括C++、Python、MATLAB等，方便开发者在不同的开发环境中使用。\n",
      "\n",
      "4. **模型库**：OpenVINO还包含了一些预训练的模型库，开发者可以直接使用这些模型进行特定任务的开发，而无需从头开始训练模型。\n",
      "\n",
      "5. **跨平台支持**：它支持多种操作系统和硬件平台，包括Windows、Linux、Mac OS等，以及各种类型的处理器和加速器。\n",
      "\n",
      "通过使用OpenVINO，开发者可以更轻松地将深度学习模型部署到实际应用中，特别是在需要在边缘设备上进行实时推理的场景中。"
     ]
    },
    {
     "data": {
      "text/plain": [
       "'OpenVINO（Open Visual Inference and Neural Network Optimization）是由英特尔开发的一套开源工具套件，用于在各种设备上部署深度学习模型。它提供了一个API库和一组工具，用于优化神经网络模型的性能，并在不同的硬件平台上进行推理。\\n\\nOpenVINO的主要功能包括：\\n\\n1. **模型优化**：它能够优化神经网络模型，以适应不同的硬件平台，包括CPU、GPU、VPU（Vision Processing Unit）等。优化过程包括模型转换、量化、并行化等步骤，以提高模型的执行效率。\\n\\n2. **推理引擎**：OpenVINO提供了一个高性能的推理引擎，用于在各种硬件平台上执行模型的推理任务。它支持多种硬件加速技术，以实现快速、高效的推理。\\n\\n3. **API支持**：它提供了多种编程接口，包括C++、Python、MATLAB等，方便开发者在不同的开发环境中使用。\\n\\n4. **模型库**：OpenVINO还包含了一些预训练的模型库，开发者可以直接使用这些模型进行特定任务的开发，而无需从头开始训练模型。\\n\\n5. **跨平台支持**：它支持多种操作系统和硬件平台，包括Windows、Linux、Mac OS等，以及各种类型的处理器和加速器。\\n\\n通过使用OpenVINO，开发者可以更轻松地将深度学习模型部署到实际应用中，特别是在需要在边缘设备上进行实时推理的场景中。'"
      ]
     },
     "execution_count": 9,
     "metadata": {},
     "output_type": "execute_result"
    }
   ],
   "source": [
    "prompt = \"<|im_start|>system\\n<|im_end|>\\n<|im_start|>user\\n什么是OpenVINO？<|im_end|>\\n<|im_start|>assistant\\n\"\n",
    "pipe.generate(prompt, eos_token_id=151645, max_length=500, streamer=streamer)"
   ]
  },
  {
   "cell_type": "markdown",
   "id": "fa565b0c-79df-4cc4-9ad9-d9b86c49dac9",
   "metadata": {},
   "source": [
    "### Chat Mode"
   ]
  },
  {
   "cell_type": "code",
   "execution_count": 7,
   "id": "03fcf60c-cba4-4225-89e5-83958c605aeb",
   "metadata": {},
   "outputs": [
    {
     "name": "stdout",
     "output_type": "stream",
     "text": [
      "当然，这是一个关于“时间旅行”的故事。这个故事发生在一个充满未来科技的小镇上，小镇上住着一位年轻的发明家，名叫李浩。他一直梦想着能够创造出一种设备，让人们能够穿越时间和空间，进行一次独特的旅程。在众多尝试和失败之后，他终于设计出了这样一款时间旅行机。\n",
      "\n",
      "某天晚上，李浩决定进行他人生中的第一次时间旅行试验。他坐在时间旅行机里，输入了目的地——他最想去的时代：古代中国的唐朝。按下启动键，时间旅行机启动了，周围的环境开始变化，时间仿佛在倒流。\n",
      "\n",
      "当李浩再次睁开眼时，他已经来到了唐朝的街头，穿着古代的服饰，周围的人们都用奇怪的目光看着他。在探索了几个小时后，他意识到，他的时间旅行并没有像他想象的那么简单。由于他对古代历史的了解不足，他的一些行为引起了周围人的误会和好奇。\n",
      "\n",
      "在一个晚上，李浩遇到了"
     ]
    },
    {
     "data": {
      "text/plain": [
       "'当然，这是一个关于“时间旅行”的故事。这个故事发生在一个充满未来科技的小镇上，小镇上住着一位年轻的发明家，名叫李浩。他一直梦想着能够创造出一种设备，让人们能够穿越时间和空间，进行一次独特的旅程。在众多尝试和失败之后，他终于设计出了这样一款时间旅行机。\\n\\n某天晚上，李浩决定进行他人生中的第一次时间旅行试验。他坐在时间旅行机里，输入了目的地——他最想去的时代：古代中国的唐朝。按下启动键，时间旅行机启动了，周围的环境开始变化，时间仿佛在倒流。\\n\\n当李浩再次睁开眼时，他已经来到了唐朝的街头，穿着古代的服饰，周围的人们都用奇怪的目光看着他。在探索了几个小时后，他意识到，他的时间旅行并没有像他想象的那么简单。由于他对古代历史的了解不足，他的一些行为引起了周围人的误会和好奇。\\n\\n在一个晚上，李浩遇到了'"
      ]
     },
     "execution_count": 7,
     "metadata": {},
     "output_type": "execute_result"
    }
   ],
   "source": [
    "pipe.start_chat()\n",
    "config = openvino_genai.GenerationConfig()\n",
    "config.max_new_tokens = 200\n",
    "config.do_sample = True\n",
    "config.top_p = 0.9\n",
    "config.top_k = 30\n",
    "pipe.generate(\"请讲一个有趣的故事\", config, streamer)"
   ]
  },
  {
   "cell_type": "code",
   "execution_count": 8,
   "id": "176a0530-7ea2-4e28-b6a3-86099163dd09",
   "metadata": {},
   "outputs": [
    {
     "name": "stdout",
     "output_type": "stream",
     "text": [
      "这个故事的标题可以是：\"时间的旅者：李浩的意外唐朝之旅\"。"
     ]
    }
   ],
   "source": [
    "pipe.generate(\"给这个故事起一个标题\", config, streamer)\n",
    "pipe.finish_chat()"
   ]
  },
  {
   "cell_type": "markdown",
   "id": "dfafe9c0",
   "metadata": {},
   "source": [
    "### MiniCPM-2B-dpo"
   ]
  },
  {
   "cell_type": "code",
   "execution_count": 16,
   "id": "a0b5f7de",
   "metadata": {},
   "outputs": [],
   "source": [
    "from pathlib import Path\n",
    "from modelscope import snapshot_download\n",
    "\n",
    "llm_model_id = \"snake7gun/minicpm-2b-dpo-int4-ov\"\n",
    "llm_local_path  = \"./model/\" + llm_model_id\n",
    "\n",
    "if not Path(llm_local_path).exists():\n",
    "    model_dir = snapshot_download(llm_model_id, cache_dir=\"./model/\")"
   ]
  },
  {
   "cell_type": "code",
   "execution_count": 17,
   "id": "40a8374b",
   "metadata": {},
   "outputs": [],
   "source": [
    "pipe = openvino_genai.LLMPipeline(llm_local_path, \"GPU\")"
   ]
  },
  {
   "cell_type": "code",
   "execution_count": 18,
   "id": "c68ec038",
   "metadata": {},
   "outputs": [
    {
     "name": "stdout",
     "output_type": "stream",
     "text": [
      "人工智能（Artificial Intelligence，简称AI）是一种模拟人类智能的技术，旨在使计算机和机器能够执行需要人类智能才能完成的任务。人工智能系统通过学习、推理、决策和适应环境的能力，使机器能够模拟人类的认知和行为。\n",
      "\n",
      "人工智能的发展可以分为以下几个阶段：\n",
      "\n",
      "1. 早期阶段（1950-1970年代）：这个时期，人工智能的研究主要集中在符号逻辑和规则系统上，如专家系统、自然语言处理等。\n",
      "\n",
      "2. 认知科学阶段（1980-1990年代）：这个时期，人工智能的研究开始关注认知科学，如神经网络、遗传算法等。\n",
      "\n",
      "3. 机器学习阶段（1990-2000年代）：这个时期，人工智能的研究开始关注机器学习，如支持向量机、决策树、神经网络等。\n",
      "\n",
      "4. 深度学习阶段（2010年至今）：这个时期，人工智能的研究开始关注深度学习，如卷积神经网络、循环神经网络等。\n",
      "\n",
      "人工智能的应用领域非常广泛，包括自然语言处理、计算机视觉、机器人技术、自动驾驶、医疗诊断、金融分析等。随着技术的不断进步，人工智能正在逐渐改变我们的生活和工作方式。"
     ]
    },
    {
     "data": {
      "text/plain": [
       "'人工智能（Artificial Intelligence，简称AI）是一种模拟人类智能的技术，旨在使计算机和机器能够执行需要人类智能才能完成的任务。人工智能系统通过学习、推理、决策和适应环境的能力，使机器能够模拟人类的认知和行为。\\n\\n人工智能的发展可以分为以下几个阶段：\\n\\n1. 早期阶段（1950-1970年代）：这个时期，人工智能的研究主要集中在符号逻辑和规则系统上，如专家系统、自然语言处理等。\\n\\n2. 认知科学阶段（1980-1990年代）：这个时期，人工智能的研究开始关注认知科学，如神经网络、遗传算法等。\\n\\n3. 机器学习阶段（1990-2000年代）：这个时期，人工智能的研究开始关注机器学习，如支持向量机、决策树、神经网络等。\\n\\n4. 深度学习阶段（2010年至今）：这个时期，人工智能的研究开始关注深度学习，如卷积神经网络、循环神经网络等。\\n\\n人工智能的应用领域非常广泛，包括自然语言处理、计算机视觉、机器人技术、自动驾驶、医疗诊断、金融分析等。随着技术的不断进步，人工智能正在逐渐改变我们的生活和工作方式。'"
      ]
     },
     "execution_count": 18,
     "metadata": {},
     "output_type": "execute_result"
    }
   ],
   "source": [
    "prompt = \"<用户>什么是人工智能？<AI>\"\n",
    "pipe.generate(prompt, eos_token_id=2, max_length=500, streamer=streamer)"
   ]
  }
 ],
 "metadata": {
  "kernelspec": {
   "display_name": "Python 3 (ipykernel)",
   "language": "python",
   "name": "python3"
  },
  "language_info": {
   "codemirror_mode": {
    "name": "ipython",
    "version": 3
   },
   "file_extension": ".py",
   "mimetype": "text/x-python",
   "name": "python",
   "nbconvert_exporter": "python",
   "pygments_lexer": "ipython3",
   "version": "3.10.14"
  }
 },
 "nbformat": 4,
 "nbformat_minor": 5
}
